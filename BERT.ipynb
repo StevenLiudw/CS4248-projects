{
 "cells": [
  {
   "cell_type": "code",
   "execution_count": 80,
   "metadata": {
    "id": "5eBcAxnku1je"
   },
   "outputs": [],
   "source": [
    "# No preprocessing\n",
    "from sklearn.feature_extraction.text import TfidfVectorizer\n",
    "import pandas as pd\n",
    "\n",
    "train_data = pd.read_csv('Bugfree_fulltrain.csv', header=None, names=['label', 'text'])\n",
    "test_data = pd.read_csv('balancedtest.csv', header=None, names=['label', 'text'])\n",
    "\n",
    "X_train = train_data['text']\n",
    "y_train = train_data['label']\n",
    "# minus all labels by one, so that range is now [0,3] for classification\n",
    "y_train -= 1\n",
    "X_test = test_data['text']\n",
    "y_test = test_data['label']\n",
    "y_test -= 1"
   ]
  },
  {
   "cell_type": "code",
   "execution_count": 1,
   "metadata": {},
   "outputs": [],
   "source": [
    "# Summarization version 1\n",
    "from sklearn.feature_extraction.text import TfidfVectorizer\n",
    "import pandas as pd\n",
    "\n",
    "X_train = pd.read_csv('summarized_fulltrain.csv', header=None)\n",
    "X_test = pd.read_csv('summarized_test.csv', header=None)\n",
    "\n",
    "train_data = pd.read_csv('Bugfree_fulltrain.csv', header=None, names=['label', 'text'])\n",
    "test_data = pd.read_csv('balancedtest.csv', header=None, names=['label', 'text'])\n",
    "\n",
    "y_train = train_data['label']\n",
    "# minus all labels by one, so that range is now [0,3] for classification\n",
    "y_train -= 1\n",
    "y_test = test_data['label']\n",
    "y_test -= 1\n",
    "\n",
    "X_train = X_train.drop(X_train.index[0])\n",
    "X_test = X_test.drop(X_test.index[0])"
   ]
  },
  {
   "cell_type": "code",
   "execution_count": 1,
   "metadata": {},
   "outputs": [],
   "source": [
    "# Summarization version 2\n",
    "from sklearn.feature_extraction.text import TfidfVectorizer\n",
    "import pandas as pd\n",
    "\n",
    "train_data = pd.read_csv('merged_summarized_fulltrain.csv')\n",
    "test_data = pd.read_csv('merged_summarized_test.csv')\n",
    "\n",
    "X_train = train_data['text']\n",
    "y_train = train_data['label']\n",
    "X_test = test_data['text']\n",
    "y_test = test_data['label']"
   ]
  },
  {
   "cell_type": "code",
   "execution_count": 2,
   "metadata": {},
   "outputs": [
    {
     "name": "stderr",
     "output_type": "stream",
     "text": [
      "c:\\Users\\USER\\AppData\\Local\\Programs\\Python\\Python39\\lib\\site-packages\\tqdm\\auto.py:21: TqdmWarning: IProgress not found. Please update jupyter and ipywidgets. See https://ipywidgets.readthedocs.io/en/stable/user_install.html\n",
      "  from .autonotebook import tqdm as notebook_tqdm\n"
     ]
    },
    {
     "name": "stdout",
     "output_type": "stream",
     "text": [
      "WARNING:tensorflow:From C:\\Users\\USER\\AppData\\Roaming\\Python\\Python39\\site-packages\\keras\\src\\losses.py:2976: The name tf.losses.sparse_softmax_cross_entropy is deprecated. Please use tf.compat.v1.losses.sparse_softmax_cross_entropy instead.\n",
      "\n"
     ]
    }
   ],
   "source": [
    "import pandas as pd\n",
    "from sklearn.model_selection import train_test_split\n",
    "from transformers import BertTokenizer, TFBertForSequenceClassification\n",
    "import tensorflow as tf\n",
    "from tensorflow.keras.losses import SparseCategoricalCrossentropy\n",
    "from tensorflow.keras.optimizers import Adam\n",
    "from tensorflow.keras.metrics import SparseCategoricalAccuracy\n",
    "\n",
    "# Load BERT tokenizer\n",
    "tokenizer = BertTokenizer.from_pretrained('bert-base-uncased', do_lower_case=True)\n",
    "\n",
    "# Tokenize text\n",
    "max_len = 128\n",
    "train_encodings = tokenizer(X_train.values.tolist(), truncation=True, padding=True, max_length=max_len)\n",
    "\n",
    "# Convert to TensorFlow Dataset\n",
    "train_dataset = tf.data.Dataset.from_tensor_slices((\n",
    "    dict(train_encodings),\n",
    "    y_train\n",
    "))\n",
    "\n",
    "# Batch and shuffle datasets\n",
    "batch_size = 64\n",
    "train_dataset = train_dataset.shuffle(len(X_train)).batch(batch_size)"
   ]
  },
  {
   "cell_type": "code",
   "execution_count": 3,
   "metadata": {},
   "outputs": [],
   "source": [
    "train_split_size = int(len(X_train) / batch_size * 0.85)\n",
    "true_train = train_dataset.take(train_split_size)\n",
    "vali_dataset = train_dataset.skip(train_split_size)"
   ]
  },
  {
   "cell_type": "code",
   "execution_count": 4,
   "metadata": {},
   "outputs": [
    {
     "name": "stdout",
     "output_type": "stream",
     "text": [
      "WARNING:tensorflow:From C:\\Users\\USER\\AppData\\Roaming\\Python\\Python39\\site-packages\\keras\\src\\backend.py:873: The name tf.get_default_graph is deprecated. Please use tf.compat.v1.get_default_graph instead.\n",
      "\n"
     ]
    },
    {
     "name": "stderr",
     "output_type": "stream",
     "text": [
      "All PyTorch model weights were used when initializing TFBertForSequenceClassification.\n",
      "\n",
      "Some weights or buffers of the TF 2.0 model TFBertForSequenceClassification were not initialized from the PyTorch model and are newly initialized: ['classifier.weight', 'classifier.bias']\n",
      "You should probably TRAIN this model on a down-stream task to be able to use it for predictions and inference.\n"
     ]
    },
    {
     "name": "stdout",
     "output_type": "stream",
     "text": [
      "WARNING:tensorflow:From C:\\Users\\USER\\AppData\\Roaming\\Python\\Python39\\site-packages\\keras\\src\\utils\\tf_utils.py:492: The name tf.ragged.RaggedTensorValue is deprecated. Please use tf.compat.v1.ragged.RaggedTensorValue instead.\n",
      "\n",
      "648/648 [==============================] - 9190s 14s/step - loss: 0.2256 - accuracy: 0.9261 - val_loss: 0.0574 - val_accuracy: 0.9810\n"
     ]
    },
    {
     "data": {
      "text/plain": [
       "<keras.src.callbacks.History at 0x2922c5d0250>"
      ]
     },
     "execution_count": 4,
     "metadata": {},
     "output_type": "execute_result"
    }
   ],
   "source": [
    "from transformers import TFBertForSequenceClassification\n",
    "# Load pre-trained BERT model\n",
    "model = TFBertForSequenceClassification.from_pretrained('bert-base-uncased', num_labels=4) # Adjust num_labels according to your number of classes\n",
    "\n",
    "# Compile the model\n",
    "loss = SparseCategoricalCrossentropy(from_logits=True)\n",
    "metric = SparseCategoricalAccuracy('accuracy')\n",
    "optimizer = Adam(learning_rate=2e-5)\n",
    "model.compile(optimizer=optimizer, loss=loss, metrics=[metric])\n",
    "\n",
    "# Train the model\n",
    "epochs = 1\n",
    "model.fit(true_train, validation_data=vali_dataset, batch_size=batch_size, epochs=epochs)"
   ]
  },
  {
   "cell_type": "code",
   "execution_count": 5,
   "metadata": {},
   "outputs": [
    {
     "name": "stdout",
     "output_type": "stream",
     "text": [
      "47/47 [==============================] - 192s 4s/step - loss: 1.9870 - accuracy: 0.5110\n",
      "Test Loss: 1.9869776964187622\n",
      "Test Accuracy: 0.5109999775886536\n"
     ]
    }
   ],
   "source": [
    "test_encodings = tokenizer(X_test.values.tolist(), truncation=True, padding=True, max_length=max_len)\n",
    "test_dataset = tf.data.Dataset.from_tensor_slices((\n",
    "    dict(test_encodings),\n",
    "    y_test\n",
    "))\n",
    "test_dataset = test_dataset.batch(batch_size)\n",
    "# Evaluate the model\n",
    "results = model.evaluate(test_dataset)\n",
    "print('Test Loss:', results[0])\n",
    "print('Test Accuracy:', results[1])"
   ]
  },
  {
   "cell_type": "code",
   "execution_count": 8,
   "metadata": {},
   "outputs": [
    {
     "name": "stdout",
     "output_type": "stream",
     "text": [
      "47/47 [==============================] - 192s 4s/step\n",
      "0.511\n",
      "0.4934899692248792\n"
     ]
    },
    {
     "data": {
      "image/png": "[encoded data removed]",
      "text/plain": [
       "<Figure size 800x600 with 2 Axes>"
      ]
     },
     "metadata": {},
     "output_type": "display_data"
    }
   ],
   "source": [
    "from sklearn.metrics import f1_score, accuracy_score, confusion_matrix\n",
    "import matplotlib.pyplot as plt\n",
    "import seaborn as sns\n",
    "import numpy as np\n",
    "from tensorflow.keras import activations\n",
    "y_pred = np.argmax(activations.softmax(tf.convert_to_tensor(model.predict(test_dataset).logits)).numpy(), axis = 1)\n",
    "score = f1_score(y_test, y_pred, average='macro')\n",
    "acc = accuracy_score(y_test, y_pred)\n",
    "print(acc)\n",
    "print(score)\n",
    "conf_matrix = confusion_matrix(y_test, y_pred)\n",
    "plt.figure(figsize=(8, 6))\n",
    "sns.heatmap(conf_matrix, annot=True, cmap='Blues', fmt='g')\n",
    "plt.xlabel('Predicted labels')\n",
    "plt.ylabel('True labels')\n",
    "plt.title('Confusion Matrix')\n",
    "plt.show()"
   ]
  },
  {
   "cell_type": "code",
   "execution_count": 9,
   "metadata": {},
   "outputs": [],
   "source": [
    "import pickle\n",
    "model.save_pretrained('./model/clf3')\n",
    "with open('./model/info.pkl', 'wb') as f:\n",
    "    pickle.dump(('bert-base-uncased', 128), f)"
   ]
  }
 ],
 "metadata": {
  "colab": {
   "provenance": []
  },
  "kernelspec": {
   "display_name": "Python 3 (ipykernel)",
   "language": "python",
   "name": "python3"
  },
  "language_info": {
   "codemirror_mode": {
    "name": "ipython",
    "version": 3
   },
   "file_extension": ".py",
   "mimetype": "text/x-python",
   "name": "python",
   "nbconvert_exporter": "python",
   "pygments_lexer": "ipython3",
   "version": "3.9.12"
  }
 },
 "nbformat": 4,
 "nbformat_minor": 1
}
