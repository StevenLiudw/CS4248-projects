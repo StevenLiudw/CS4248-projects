{
 "cells": [
  {
   "cell_type": "code",
   "execution_count": null,
   "metadata": {},
   "outputs": [],
   "source": [
    "import pandas as pd\n",
    "from sklearn.model_selection import train_test_split\n",
    "from sklearn.preprocessing import LabelEncoder\n",
    "from tensorflow.keras.models import Sequential\n",
    "from tensorflow.keras.layers import Dense\n",
    "from tensorflow.keras.utils import to_categorical\n",
    "from sklearn.metrics import accuracy_score, f1_score, confusion_matrix\n",
    "import seaborn as sns\n",
    "import matplotlib.pyplot as plt\n",
    "import numpy as np\n",
    "from sklearn.feature_extraction.text import TfidfVectorizer\n",
    "\n",
    "# Load data\n",
    "train_data = pd.read_csv('..\\\\raw_data\\\\raw_data\\\\fulltrain.csv', header=None, names=['label', 'text'])\n",
    "test_data = pd.read_csv('..\\\\raw_data\\\\raw_data\\\\balancedtest.csv', header=None, names=['label', 'text'])\n",
    "\n",
    "X_train = train_data['text'].values\n",
    "y_train = train_data['label'].values\n",
    "X_test = test_data['text'].values\n",
    "y_test = test_data['label'].values\n",
    "\n",
    "# Encode labels\n",
    "label_encoder = LabelEncoder()\n",
    "y_train_encoded = label_encoder.fit_transform(y_train)\n",
    "y_test_encoded = label_encoder.transform(y_test)\n",
    "y_train_categorical = to_categorical(y_train_encoded)\n",
    "y_test_categorical = to_categorical(y_test_encoded)\n",
    "\n",
    "# Initialize a TF-IDF Vectorizer and compute TF-IDF vectors for the train and test sets\n",
    "tfidf_vectorizer = TfidfVectorizer(tokenizer=lambda x: x, analyzer='word',preprocessor=lambda x: x, max_features=10000, ngram_range =(1,2))  # Limiting to 5000 features\n",
    "X_train_tfidf = tfidf_vectorizer.fit_transform(X_train).toarray()\n",
    "X_test_tfidf = tfidf_vectorizer.transform(X_test).toarray()\n",
    "\n",
    "# Define a model suitable for TF-IDF input\n",
    "model_tfidf = Sequential()\n",
    "model_tfidf.add(Dense(512, activation='relu', input_dim=7258))  # The input dimension is 5000, matching the TF-IDF features\n",
    "model_tfidf.add(Dense(units=len(label_encoder.classes_), activation='softmax'))\n",
    "\n",
    "# Compile the model\n",
    "model_tfidf.compile(optimizer='adam', loss='categorical_crossentropy', metrics=['accuracy'])\n",
    "\n",
    "# Train the model\n",
    "model_tfidf.fit(X_train_tfidf, y_train_categorical, epochs=5, validation_data=(X_test_tfidf, y_test_categorical), batch_size=32)\n",
    "model_tfidf.summary()"
   ]
  }
 ],
 "metadata": {
  "language_info": {
   "name": "python"
  }
 },
 "nbformat": 4,
 "nbformat_minor": 2
}
